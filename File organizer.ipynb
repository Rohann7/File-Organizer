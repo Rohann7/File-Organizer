{
 "cells": [
  {
   "cell_type": "code",
   "execution_count": null,
   "metadata": {},
   "outputs": [],
   "source": [
    "import os \n",
    "from pathlib import Path  \n",
    "\n",
    "DIRECTORIES = {     \n",
    "    \n",
    "    \"HTML\": [\".html5\", \".html\", \".htm\", \".xhtml\"],     \n",
    "    \"IMAGES\": [\".jpeg\", \".jpg\", \".tiff\", \".gif\", \".bmp\", \".png\", \".bpg\", \"svg\",          \n",
    "               \".heif\", \".psd\"],    \n",
    "    \"VIDEOS\": [\".avi\", \".flv\", \".wmv\", \".mov\", \".mp4\", \".webm\", \".vob\", \".mng\",         \n",
    "               \".qt\", \".mpg\", \".mpeg\", \".3gp\"],   \n",
    "    \"DOCUMENTS\": [\".oxps\", \".epub\", \".pages\", \".docx\", \".doc\", \".fdf\", \".ods\",             \n",
    "                  \".odt\", \".pwi\", \".xsn\", \".xps\", \".dotx\", \".docm\", \".dox\",             \n",
    "                  \".rvg\", \".rtf\", \".rtfd\", \".wpd\", \".xls\", \".xlsx\", \".ppt\",              \n",
    "                  \"pptx\"], \n",
    "    \"ARCHIVES\": [\".a\", \".ar\", \".cpio\", \".iso\", \".tar\", \".gz\", \".rz\", \".7z\",   \n",
    "             \".dmg\", \".rar\", \".xar\", \".zip\"],    \n",
    "    \"AUDIO\": [\".aac\", \".aa\", \".aac\", \".dvf\", \".m4a\", \".m4b\", \".m4p\", \".mp3\",          \n",
    "              \".msv\", \"ogg\", \"oga\", \".raw\", \".vox\", \".wav\", \".wma\"],  \n",
    "    \"PLAINTEXT\": [\".txt\", \".in\", \".out\"],   \n",
    "    \"PDF\": [\".pdf\"],   \n",
    "    \"PYTHON\": [\".py\",\".ipynb\"],     \n",
    "    \"XML\": [\".xml\"],    \n",
    "    \"EXE\": [\".exe\"],     \n",
    "    \"SHELL\": [\".sh\"]  \n",
    "} \n",
    "\n",
    "FILE_FORMATS = {file_format: directory    \n",
    "                for directory, file_formats in DIRECTORIES.items()     \n",
    "                for file_format in file_formats} \n",
    "\n",
    "def organize_junk():  \n",
    "    for entry in os.scandir():     \n",
    "        if entry.is_dir():          \n",
    "            continue      \n",
    "        file_path = Path(entry)       \n",
    "        file_format = file_path.suffix.lower()     \n",
    "        if file_format in FILE_FORMATS:           \n",
    "            directory_path = Path(FILE_FORMATS[file_format])    \n",
    "            directory_path.mkdir(exist_ok=True)         \n",
    "            file_path.rename(directory_path.joinpath(file_path))    \n",
    "            \n",
    "        for dir in os.scandir():           \n",
    "            try:             \n",
    "                os.rmdir(dir)       \n",
    "            except:               \n",
    "                pass \n",
    "            \n",
    "if __name__ == \"__main__\":     \n",
    "    organize_junk() \n"
   ]
  }
 ],
 "metadata": {
  "kernelspec": {
   "display_name": "Python 3",
   "language": "python",
   "name": "python3"
  },
  "language_info": {
   "codemirror_mode": {
    "name": "ipython",
    "version": 3
   },
   "file_extension": ".py",
   "mimetype": "text/x-python",
   "name": "python",
   "nbconvert_exporter": "python",
   "pygments_lexer": "ipython3",
   "version": "3.7.3"
  }
 },
 "nbformat": 4,
 "nbformat_minor": 2
}
